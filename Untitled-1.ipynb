{
 "cells": [
  {
   "cell_type": "markdown",
   "id": "c8840ac8",
   "metadata": {},
   "source": [
    "## Question 1"
   ]
  },
  {
   "cell_type": "markdown",
   "id": "7a953c4a",
   "metadata": {},
   "source": [
    "### Subquestion 1"
   ]
  },
  {
   "cell_type": "code",
   "execution_count": 1,
   "id": "25e0ae9c",
   "metadata": {},
   "outputs": [
    {
     "name": "stdout",
     "output_type": "stream",
     "text": [
      "Array:\n",
      " [[45 48  1  4]\n",
      " [ 4 40 10 20]\n",
      " [22 37 24  7]\n",
      " [25 25 13  2]\n",
      " [39 40 24 47]]\n",
      "Anti-diagonal elements: [4, 10, 37, 25]\n"
     ]
    }
   ],
   "source": [
    "import numpy as np\n",
    "\n",
    "# Step 1 Generating the array\n",
    "np.random.seed(0)\n",
    "arr = np.random.randint(1, 51, size=(5, 4))\n",
    "\n",
    "print(\"Array:\\n\", arr)\n",
    "anti_diagonal = [arr[i, -i-1] for i in range(min(arr.shape))]\n",
    "\n",
    "print(\"Anti-diagonal elements:\", anti_diagonal)\n"
   ]
  },
  {
   "cell_type": "markdown",
   "id": "0a541b29",
   "metadata": {},
   "source": [
    "### Subquestion 2"
   ]
  },
  {
   "cell_type": "code",
   "execution_count": 2,
   "id": "9254b08e",
   "metadata": {},
   "outputs": [
    {
     "name": "stdout",
     "output_type": "stream",
     "text": [
      "Maximum value in each row: [48 40 37 25 47]\n"
     ]
    }
   ],
   "source": [
    "row_max = np.max(arr, axis=1)\n",
    "print(\"Maximum value in each row:\", row_max)"
   ]
  },
  {
   "cell_type": "markdown",
   "id": "d374a452",
   "metadata": {},
   "source": [
    "### Sub Question 3"
   ]
  },
  {
   "cell_type": "code",
   "execution_count": 5,
   "id": "1442f46c",
   "metadata": {},
   "outputs": [
    {
     "name": "stdout",
     "output_type": "stream",
     "text": [
      "Elements ≤ mean ( 23.85 ) are: [ 1  4  4 10 20 22  7 13  2]\n"
     ]
    }
   ],
   "source": [
    "mean_val = np.mean(arr)\n",
    "filtered_elements = arr[arr <= mean_val]\n",
    "print(\"Elements ≤ mean (\", mean_val, \") are:\", filtered_elements)"
   ]
  },
  {
   "cell_type": "markdown",
   "id": "eab48a5a",
   "metadata": {},
   "source": [
    "### Subquestion 4"
   ]
  },
  {
   "cell_type": "code",
   "execution_count": null,
   "id": "54e415f9",
   "metadata": {},
   "outputs": [
    {
     "name": "stdout",
     "output_type": "stream",
     "text": [
      "Boundary elements in clockwise order: [45, 48, 1, 4, 20, 7, 2, 47, 24, 40, 39, 25, 22, 4]\n"
     ]
    }
   ],
   "source": [
    "def numpy_boundary_traversal(matrix):\n",
    "    if matrix.ndim != 2:\n",
    "        raise ValueError(\"Input must be a 2D NumPy array.\")\n",
    "    \n",
    "    rows, cols = matrix.shape\n",
    "    boundary = []\n",
    "\n",
    "    # Top row\n",
    "    boundary.extend(matrix[0, :])\n",
    "\n",
    "    # Right column (excluding the top element)\n",
    "    if rows > 1:\n",
    "        boundary.extend(matrix[1:rows-1, -1])\n",
    "\n",
    "    # Bottom row\n",
    "    if rows > 1:\n",
    "        boundary.extend(matrix[-1, ::-1])\n",
    "\n",
    "    # Left column (excluding top and bottom)\n",
    "    if cols > 1:\n",
    "        boundary.extend(matrix[rows-2:0:-1, 0])\n",
    "\n",
    "    return list(boundary)\n",
    "\n",
    "boundary_elements = numpy_boundary_traversal(arr)\n",
    "print(\"Boundary elements in clockwise order:\", boundary_elements)"
   ]
  },
  {
   "cell_type": "markdown",
   "id": "db746eaf",
   "metadata": {},
   "source": [
    "## Question 2"
   ]
  },
  {
   "cell_type": "markdown",
   "id": "21ff15bc",
   "metadata": {},
   "source": [
    "### Subquestion 1"
   ]
  },
  {
   "cell_type": "code",
   "execution_count": 10,
   "id": "4368ec8e",
   "metadata": {},
   "outputs": [
    {
     "name": "stdout",
     "output_type": "stream",
     "text": [
      "Original Array: [4.56150332 5.68433949 0.187898   6.17635497 6.12095723 6.16933997\n",
      " 9.43748079 6.81820299 3.59507901 4.37031954 6.97631196 0.60225472\n",
      " 6.66766715 6.7063787  2.10382561 1.28926298 3.15428351 3.63710771\n",
      " 5.7019677  4.38601513]\n",
      "Rounded Array: [4.56 5.68 0.19 6.18 6.12 6.17 9.44 6.82 3.6  4.37 6.98 0.6  6.67 6.71\n",
      " 2.1  1.29 3.15 3.64 5.7  4.39]\n"
     ]
    }
   ],
   "source": [
    "arr = np.random.uniform(0, 10, 20)\n",
    "print(\"Original Array:\", arr)\n",
    "rounded_arr = np.round(arr, 2)\n",
    "print(\"Rounded Array:\", rounded_arr)"
   ]
  },
  {
   "cell_type": "markdown",
   "id": "b57fc3e3",
   "metadata": {},
   "source": [
    "### Subquestion 2"
   ]
  },
  {
   "cell_type": "code",
   "execution_count": 11,
   "id": "415d2780",
   "metadata": {},
   "outputs": [
    {
     "name": "stdout",
     "output_type": "stream",
     "text": [
      "Min: 0.19\n",
      "Max: 9.44\n",
      "Median: 5.119999999999999\n"
     ]
    }
   ],
   "source": [
    "print(\"Min:\", np.min(rounded_arr))\n",
    "print(\"Max:\", np.max(rounded_arr))\n",
    "print(\"Median:\", np.median(rounded_arr))"
   ]
  },
  {
   "cell_type": "markdown",
   "id": "23ba9e73",
   "metadata": {},
   "source": [
    "### Subquestion 3"
   ]
  },
  {
   "cell_type": "code",
   "execution_count": 13,
   "id": "2f070bad",
   "metadata": {},
   "outputs": [
    {
     "name": "stdout",
     "output_type": "stream",
     "text": [
      "Array of elements with value < 5: [4.56 0.19 3.6  4.37 0.6  2.1  1.29 3.15 3.64 4.39]\n",
      "Modified Array: [20.7936  5.68    0.0361  6.18    6.12    6.17    9.44    6.82   12.96\n",
      " 19.0969  6.98    0.36    6.67    6.71    4.41    1.6641  9.9225 13.2496\n",
      "  5.7    19.2721]\n"
     ]
    }
   ],
   "source": [
    "modified_arr = rounded_arr.copy()\n",
    "print(\"Array of elements with value < 5:\", modified_arr[modified_arr < 5])\n",
    "modified_arr[modified_arr < 5] = modified_arr[modified_arr < 5] ** 2\n",
    "print(\"Modified Array:\", modified_arr)\n"
   ]
  },
  {
   "cell_type": "markdown",
   "id": "02fef0ea",
   "metadata": {},
   "source": [
    "### Subquestion 4"
   ]
  },
  {
   "cell_type": "code",
   "execution_count": 14,
   "id": "98f91583",
   "metadata": {},
   "outputs": [
    {
     "name": "stdout",
     "output_type": "stream",
     "text": [
      "[0.187898   9.43748079 0.60225472 6.97631196 1.28926298 6.81820299\n",
      " 2.10382561 6.7063787  3.15428351 6.66766715 3.59507901 6.17635497\n",
      " 3.63710771 6.16933997 4.37031954 6.12095723 4.38601513 5.7019677\n",
      " 4.56150332 5.68433949]\n"
     ]
    }
   ],
   "source": [
    "def numpy_alternate_sort(array):\n",
    "    sorted_arr = np.sort(array)\n",
    "    result = []\n",
    "    left = 0\n",
    "    right = len(sorted_arr) - 1\n",
    "\n",
    "    while left <= right:\n",
    "        if left == right:\n",
    "            result.append(sorted_arr[left])\n",
    "        else:\n",
    "            result.append(sorted_arr[left])\n",
    "            result.append(sorted_arr[right])\n",
    "        left += 1\n",
    "        right -= 1\n",
    "\n",
    "    return np.array(result)\n",
    "\n",
    "print(numpy_alternate_sort(arr))"
   ]
  },
  {
   "cell_type": "markdown",
   "id": "b0c6cf93",
   "metadata": {},
   "source": [
    "## Question 3"
   ]
  },
  {
   "cell_type": "code",
   "execution_count": 15,
   "id": "ba9ab237",
   "metadata": {},
   "outputs": [],
   "source": [
    "import pandas as pd\n",
    "import itertools"
   ]
  },
  {
   "cell_type": "markdown",
   "id": "84c671cc",
   "metadata": {},
   "source": [
    "### Subquestion 1"
   ]
  },
  {
   "cell_type": "code",
   "execution_count": 17,
   "id": "301d4608",
   "metadata": {},
   "outputs": [
    {
     "data": {
      "text/html": [
       "<div>\n",
       "<style scoped>\n",
       "    .dataframe tbody tr th:only-of-type {\n",
       "        vertical-align: middle;\n",
       "    }\n",
       "\n",
       "    .dataframe tbody tr th {\n",
       "        vertical-align: top;\n",
       "    }\n",
       "\n",
       "    .dataframe thead th {\n",
       "        text-align: right;\n",
       "    }\n",
       "</style>\n",
       "<table border=\"1\" class=\"dataframe\">\n",
       "  <thead>\n",
       "    <tr style=\"text-align: right;\">\n",
       "      <th></th>\n",
       "      <th>Name</th>\n",
       "      <th>Subject</th>\n",
       "      <th>Score</th>\n",
       "      <th>Grade</th>\n",
       "    </tr>\n",
       "  </thead>\n",
       "  <tbody>\n",
       "    <tr>\n",
       "      <th>0</th>\n",
       "      <td>Tony Stark</td>\n",
       "      <td>Math</td>\n",
       "      <td>70</td>\n",
       "      <td>C</td>\n",
       "    </tr>\n",
       "    <tr>\n",
       "      <th>1</th>\n",
       "      <td>Tony Stark</td>\n",
       "      <td>Physics</td>\n",
       "      <td>85</td>\n",
       "      <td>B</td>\n",
       "    </tr>\n",
       "    <tr>\n",
       "      <th>2</th>\n",
       "      <td>Peter Parker</td>\n",
       "      <td>Math</td>\n",
       "      <td>73</td>\n",
       "      <td>C</td>\n",
       "    </tr>\n",
       "    <tr>\n",
       "      <th>3</th>\n",
       "      <td>Peter Parker</td>\n",
       "      <td>Physics</td>\n",
       "      <td>65</td>\n",
       "      <td>D</td>\n",
       "    </tr>\n",
       "    <tr>\n",
       "      <th>4</th>\n",
       "      <td>Steve Rogers</td>\n",
       "      <td>Math</td>\n",
       "      <td>63</td>\n",
       "      <td>D</td>\n",
       "    </tr>\n",
       "    <tr>\n",
       "      <th>5</th>\n",
       "      <td>Steve Rogers</td>\n",
       "      <td>Physics</td>\n",
       "      <td>71</td>\n",
       "      <td>C</td>\n",
       "    </tr>\n",
       "    <tr>\n",
       "      <th>6</th>\n",
       "      <td>Wanda Maximoff</td>\n",
       "      <td>Math</td>\n",
       "      <td>98</td>\n",
       "      <td>A</td>\n",
       "    </tr>\n",
       "    <tr>\n",
       "      <th>7</th>\n",
       "      <td>Wanda Maximoff</td>\n",
       "      <td>Physics</td>\n",
       "      <td>99</td>\n",
       "      <td>A</td>\n",
       "    </tr>\n",
       "    <tr>\n",
       "      <th>8</th>\n",
       "      <td>Thor Odinson</td>\n",
       "      <td>Math</td>\n",
       "      <td>55</td>\n",
       "      <td>F</td>\n",
       "    </tr>\n",
       "    <tr>\n",
       "      <th>9</th>\n",
       "      <td>Thor Odinson</td>\n",
       "      <td>Physics</td>\n",
       "      <td>91</td>\n",
       "      <td>A</td>\n",
       "    </tr>\n",
       "  </tbody>\n",
       "</table>\n",
       "</div>"
      ],
      "text/plain": [
       "             Name  Subject  Score Grade\n",
       "0      Tony Stark     Math     70     C\n",
       "1      Tony Stark  Physics     85     B\n",
       "2    Peter Parker     Math     73     C\n",
       "3    Peter Parker  Physics     65     D\n",
       "4    Steve Rogers     Math     63     D\n",
       "5    Steve Rogers  Physics     71     C\n",
       "6  Wanda Maximoff     Math     98     A\n",
       "7  Wanda Maximoff  Physics     99     A\n",
       "8    Thor Odinson     Math     55     F\n",
       "9    Thor Odinson  Physics     91     A"
      ]
     },
     "execution_count": 17,
     "metadata": {},
     "output_type": "execute_result"
    }
   ],
   "source": [
    "names = ['Tony Stark', 'Peter Parker', 'Steve Rogers', 'Wanda Maximoff', 'Thor Odinson']\n",
    "subjects = ['Math', 'Physics']\n",
    "\n",
    "# Creating all permutations\n",
    "records = list(itertools.product(names, subjects))\n",
    "\n",
    "# Generating scores\n",
    "scores = np.random.randint(50, 101, size=len(records))\n",
    "\n",
    "# Creating DataFrame\n",
    "df = pd.DataFrame(records, columns=['Name', 'Subject'])\n",
    "df['Score'] = scores\n",
    "df['Grade'] = ''  # Initially empty\n",
    "\n",
    "# Assigning grades\n",
    "def assign_grade(score):\n",
    "    if score >= 90:\n",
    "        return 'A'\n",
    "    elif score >= 80:\n",
    "        return 'B'\n",
    "    elif score >= 70:\n",
    "        return 'C'\n",
    "    elif score >= 60:\n",
    "        return 'D'\n",
    "    else:\n",
    "        return 'F'\n",
    "\n",
    "df['Grade'] = df['Score'].apply(assign_grade)\n",
    "df"
   ]
  },
  {
   "cell_type": "markdown",
   "id": "9718c1f2",
   "metadata": {},
   "source": [
    "### Subquestion 2"
   ]
  },
  {
   "cell_type": "code",
   "execution_count": 19,
   "id": "d82f7e45",
   "metadata": {},
   "outputs": [
    {
     "data": {
      "text/html": [
       "<div>\n",
       "<style scoped>\n",
       "    .dataframe tbody tr th:only-of-type {\n",
       "        vertical-align: middle;\n",
       "    }\n",
       "\n",
       "    .dataframe tbody tr th {\n",
       "        vertical-align: top;\n",
       "    }\n",
       "\n",
       "    .dataframe thead th {\n",
       "        text-align: right;\n",
       "    }\n",
       "</style>\n",
       "<table border=\"1\" class=\"dataframe\">\n",
       "  <thead>\n",
       "    <tr style=\"text-align: right;\">\n",
       "      <th></th>\n",
       "      <th>Name</th>\n",
       "      <th>Subject</th>\n",
       "      <th>Score</th>\n",
       "      <th>Grade</th>\n",
       "    </tr>\n",
       "  </thead>\n",
       "  <tbody>\n",
       "    <tr>\n",
       "      <th>7</th>\n",
       "      <td>Wanda Maximoff</td>\n",
       "      <td>Physics</td>\n",
       "      <td>99</td>\n",
       "      <td>A</td>\n",
       "    </tr>\n",
       "    <tr>\n",
       "      <th>6</th>\n",
       "      <td>Wanda Maximoff</td>\n",
       "      <td>Math</td>\n",
       "      <td>98</td>\n",
       "      <td>A</td>\n",
       "    </tr>\n",
       "    <tr>\n",
       "      <th>9</th>\n",
       "      <td>Thor Odinson</td>\n",
       "      <td>Physics</td>\n",
       "      <td>91</td>\n",
       "      <td>A</td>\n",
       "    </tr>\n",
       "    <tr>\n",
       "      <th>1</th>\n",
       "      <td>Tony Stark</td>\n",
       "      <td>Physics</td>\n",
       "      <td>85</td>\n",
       "      <td>B</td>\n",
       "    </tr>\n",
       "    <tr>\n",
       "      <th>2</th>\n",
       "      <td>Peter Parker</td>\n",
       "      <td>Math</td>\n",
       "      <td>73</td>\n",
       "      <td>C</td>\n",
       "    </tr>\n",
       "    <tr>\n",
       "      <th>5</th>\n",
       "      <td>Steve Rogers</td>\n",
       "      <td>Physics</td>\n",
       "      <td>71</td>\n",
       "      <td>C</td>\n",
       "    </tr>\n",
       "    <tr>\n",
       "      <th>0</th>\n",
       "      <td>Tony Stark</td>\n",
       "      <td>Math</td>\n",
       "      <td>70</td>\n",
       "      <td>C</td>\n",
       "    </tr>\n",
       "    <tr>\n",
       "      <th>3</th>\n",
       "      <td>Peter Parker</td>\n",
       "      <td>Physics</td>\n",
       "      <td>65</td>\n",
       "      <td>D</td>\n",
       "    </tr>\n",
       "    <tr>\n",
       "      <th>4</th>\n",
       "      <td>Steve Rogers</td>\n",
       "      <td>Math</td>\n",
       "      <td>63</td>\n",
       "      <td>D</td>\n",
       "    </tr>\n",
       "    <tr>\n",
       "      <th>8</th>\n",
       "      <td>Thor Odinson</td>\n",
       "      <td>Math</td>\n",
       "      <td>55</td>\n",
       "      <td>F</td>\n",
       "    </tr>\n",
       "  </tbody>\n",
       "</table>\n",
       "</div>"
      ],
      "text/plain": [
       "             Name  Subject  Score Grade\n",
       "7  Wanda Maximoff  Physics     99     A\n",
       "6  Wanda Maximoff     Math     98     A\n",
       "9    Thor Odinson  Physics     91     A\n",
       "1      Tony Stark  Physics     85     B\n",
       "2    Peter Parker     Math     73     C\n",
       "5    Steve Rogers  Physics     71     C\n",
       "0      Tony Stark     Math     70     C\n",
       "3    Peter Parker  Physics     65     D\n",
       "4    Steve Rogers     Math     63     D\n",
       "8    Thor Odinson     Math     55     F"
      ]
     },
     "execution_count": 19,
     "metadata": {},
     "output_type": "execute_result"
    }
   ],
   "source": [
    "sorted_df = df.sort_values(by='Score', ascending=False)\n",
    "sorted_df"
   ]
  },
  {
   "cell_type": "markdown",
   "id": "5b4315cf",
   "metadata": {},
   "source": [
    "### Subquestion 3"
   ]
  },
  {
   "cell_type": "code",
   "execution_count": 20,
   "id": "7a40fdc4",
   "metadata": {},
   "outputs": [
    {
     "data": {
      "text/plain": [
       "Subject\n",
       "Math       71.8\n",
       "Physics    82.2\n",
       "Name: Score, dtype: float64"
      ]
     },
     "execution_count": 20,
     "metadata": {},
     "output_type": "execute_result"
    }
   ],
   "source": [
    "average_scores = df.groupby('Subject')['Score'].mean()\n",
    "average_scores"
   ]
  },
  {
   "cell_type": "markdown",
   "id": "cea8ab5c",
   "metadata": {},
   "source": [
    "### Subquestion 4"
   ]
  },
  {
   "cell_type": "code",
   "execution_count": 21,
   "id": "45a8bf7e",
   "metadata": {},
   "outputs": [
    {
     "data": {
      "text/html": [
       "<div>\n",
       "<style scoped>\n",
       "    .dataframe tbody tr th:only-of-type {\n",
       "        vertical-align: middle;\n",
       "    }\n",
       "\n",
       "    .dataframe tbody tr th {\n",
       "        vertical-align: top;\n",
       "    }\n",
       "\n",
       "    .dataframe thead th {\n",
       "        text-align: right;\n",
       "    }\n",
       "</style>\n",
       "<table border=\"1\" class=\"dataframe\">\n",
       "  <thead>\n",
       "    <tr style=\"text-align: right;\">\n",
       "      <th></th>\n",
       "      <th>Name</th>\n",
       "      <th>Subject</th>\n",
       "      <th>Score</th>\n",
       "      <th>Grade</th>\n",
       "    </tr>\n",
       "  </thead>\n",
       "  <tbody>\n",
       "    <tr>\n",
       "      <th>1</th>\n",
       "      <td>Tony Stark</td>\n",
       "      <td>Physics</td>\n",
       "      <td>85</td>\n",
       "      <td>B</td>\n",
       "    </tr>\n",
       "    <tr>\n",
       "      <th>6</th>\n",
       "      <td>Wanda Maximoff</td>\n",
       "      <td>Math</td>\n",
       "      <td>98</td>\n",
       "      <td>A</td>\n",
       "    </tr>\n",
       "    <tr>\n",
       "      <th>7</th>\n",
       "      <td>Wanda Maximoff</td>\n",
       "      <td>Physics</td>\n",
       "      <td>99</td>\n",
       "      <td>A</td>\n",
       "    </tr>\n",
       "    <tr>\n",
       "      <th>9</th>\n",
       "      <td>Thor Odinson</td>\n",
       "      <td>Physics</td>\n",
       "      <td>91</td>\n",
       "      <td>A</td>\n",
       "    </tr>\n",
       "  </tbody>\n",
       "</table>\n",
       "</div>"
      ],
      "text/plain": [
       "             Name  Subject  Score Grade\n",
       "1      Tony Stark  Physics     85     B\n",
       "6  Wanda Maximoff     Math     98     A\n",
       "7  Wanda Maximoff  Physics     99     A\n",
       "9    Thor Odinson  Physics     91     A"
      ]
     },
     "execution_count": 21,
     "metadata": {},
     "output_type": "execute_result"
    }
   ],
   "source": [
    "def pandas_filter_pass(dataframe):\n",
    "    return dataframe[dataframe['Grade'].isin(['A', 'B'])]\n",
    "\n",
    "# Appling the filter function on our local DataDrame\n",
    "passed_df = pandas_filter_pass(df)\n",
    "passed_df"
   ]
  },
  {
   "cell_type": "markdown",
   "id": "2d902421",
   "metadata": {},
   "source": [
    "## Question 4"
   ]
  },
  {
   "cell_type": "markdown",
   "id": "90ce78de",
   "metadata": {},
   "source": [
    "### Subquestion 1"
   ]
  },
  {
   "cell_type": "code",
   "execution_count": 24,
   "id": "72df8b19",
   "metadata": {},
   "outputs": [],
   "source": [
    "import pandas as pd\n",
    "import random\n",
    "from sklearn.feature_extraction.text import CountVectorizer\n",
    "from sklearn.model_selection import train_test_split \n",
    "from sklearn.naive_bayes import MultinomialNB \n",
    "from sklearn.metrics import accuracy_score\n",
    "\n",
    "\n",
    "\n",
    "\n",
    "# Ssynthetic data\n",
    "positive_reviews = [\"I loved this movie! It was fantastic.\" for _ in range(50)]\n",
    "negative_reviews = [\"I hated this movie. It was terrible.\" for _ in range(50)]\n",
    "\n",
    "# Using various usages by randomizing\n",
    "positive_reviews = [review.replace(\"loved\", random.choice([\"loved\", \"enjoyed\", \"liked\", \"adored\", \"appreciated\"])) \n",
    "                    for review in positive_reviews]\n",
    "negative_reviews = [review.replace(\"hated\", random.choice([\"hated\", \"disliked\", \"detested\", \"abhorred\", \"loathed\"])) \n",
    "                    for review in negative_reviews]\n",
    "\n",
    "reviews = positive_reviews + negative_reviews\n",
    "sentiments = [\"positive\"] * 50 + [\"negative\"] * 50\n",
    "\n",
    "df = pd.DataFrame({\"Review\": reviews, \"Sentiment\": sentiments})\n",
    "\n",
    "# Tokenization with CountVectorizer\n",
    "vectorizer = CountVectorizer(max_features=500, stop_words='english')\n",
    "X = vectorizer.fit_transform(df[\"Review\"])\n",
    "y = df[\"Sentiment\"]\n",
    "\n"
   ]
  },
  {
   "cell_type": "markdown",
   "id": "6e7f73ab",
   "metadata": {},
   "source": [
    "### Subquestion 2"
   ]
  },
  {
   "cell_type": "code",
   "execution_count": 25,
   "id": "383efd22",
   "metadata": {},
   "outputs": [],
   "source": [
    "# Train-test split\n",
    "X_train, X_test, y_train, y_test = train_test_split(X, y, test_size=0.2, random_state=42)\n"
   ]
  },
  {
   "cell_type": "markdown",
   "id": "b4d5f1e5",
   "metadata": {},
   "source": [
    "### Subquestion 3"
   ]
  },
  {
   "cell_type": "code",
   "execution_count": 26,
   "id": "06bda755",
   "metadata": {},
   "outputs": [
    {
     "name": "stdout",
     "output_type": "stream",
     "text": [
      "Test Accuracy: 1.00\n"
     ]
    }
   ],
   "source": [
    "# Train Multinomial Naive Bayes\n",
    "model = MultinomialNB()\n",
    "model.fit(X_train, y_train)\n",
    "\n",
    "# Test accuracy\n",
    "y_pred = model.predict(X_test)\n",
    "accuracy = accuracy_score(y_test, y_pred)\n",
    "print(f\"Test Accuracy: {accuracy:.2f}\")"
   ]
  },
  {
   "cell_type": "markdown",
   "id": "889743df",
   "metadata": {},
   "source": [
    "### Subquestion 4"
   ]
  },
  {
   "cell_type": "code",
   "execution_count": 35,
   "id": "c8906864",
   "metadata": {},
   "outputs": [
    {
     "name": "stdout",
     "output_type": "stream",
     "text": [
      "Predicted Sentiment: negative\n"
     ]
    }
   ],
   "source": [
    "# Prediction function\n",
    "def predict_review_sentiment(model, vectorizer, review):\n",
    "    review_vector = vectorizer.transform([review])\n",
    "    prediction = model.predict(review_vector)[0]\n",
    "    return prediction\n",
    "\n",
    "# An Example\n",
    "example_review = \"The movie was boring and a complete waste of time.\"\n",
    "print(\"Predicted Sentiment:\", predict_review_sentiment(model, vectorizer, example_review))"
   ]
  },
  {
   "cell_type": "code",
   "execution_count": null,
   "id": "91eb308e",
   "metadata": {},
   "outputs": [],
   "source": []
  },
  {
   "cell_type": "code",
   "execution_count": null,
   "id": "67049a22",
   "metadata": {},
   "outputs": [],
   "source": []
  }
 ],
 "metadata": {
  "kernelspec": {
   "display_name": "Python 3",
   "language": "python",
   "name": "python3"
  },
  "language_info": {
   "codemirror_mode": {
    "name": "ipython",
    "version": 3
   },
   "file_extension": ".py",
   "mimetype": "text/x-python",
   "name": "python",
   "nbconvert_exporter": "python",
   "pygments_lexer": "ipython3",
   "version": "3.11.4"
  }
 },
 "nbformat": 4,
 "nbformat_minor": 5
}
